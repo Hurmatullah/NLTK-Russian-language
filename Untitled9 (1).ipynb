{
 "cells": [
  {
   "cell_type": "code",
   "execution_count": 37,
   "id": "b8beed08",
   "metadata": {},
   "outputs": [],
   "source": [
    "import nltk\n",
    "from nltk.corpus import stopwords\n",
    "import pandas as pd"
   ]
  },
  {
   "cell_type": "code",
   "execution_count": 69,
   "id": "ca469961",
   "metadata": {},
   "outputs": [
    {
     "data": {
      "text/html": [
       "<div>\n",
       "<style scoped>\n",
       "    .dataframe tbody tr th:only-of-type {\n",
       "        vertical-align: middle;\n",
       "    }\n",
       "\n",
       "    .dataframe tbody tr th {\n",
       "        vertical-align: top;\n",
       "    }\n",
       "\n",
       "    .dataframe thead th {\n",
       "        text-align: right;\n",
       "    }\n",
       "</style>\n",
       "<table border=\"1\" class=\"dataframe\">\n",
       "  <thead>\n",
       "    <tr style=\"text-align: right;\">\n",
       "      <th></th>\n",
       "      <th>Abbreviation</th>\n",
       "      <th>Meaning</th>\n",
       "    </tr>\n",
       "  </thead>\n",
       "  <tbody>\n",
       "    <tr>\n",
       "      <th>0</th>\n",
       "      <td>CC</td>\n",
       "      <td>coordinating conjunction</td>\n",
       "    </tr>\n",
       "    <tr>\n",
       "      <th>1</th>\n",
       "      <td>CD</td>\n",
       "      <td>cardinal digit</td>\n",
       "    </tr>\n",
       "    <tr>\n",
       "      <th>2</th>\n",
       "      <td>DT</td>\n",
       "      <td>determiner</td>\n",
       "    </tr>\n",
       "    <tr>\n",
       "      <th>3</th>\n",
       "      <td>EX</td>\n",
       "      <td>existential there</td>\n",
       "    </tr>\n",
       "    <tr>\n",
       "      <th>4</th>\n",
       "      <td>FW</td>\n",
       "      <td>foreign word</td>\n",
       "    </tr>\n",
       "    <tr>\n",
       "      <th>5</th>\n",
       "      <td>IN</td>\n",
       "      <td>preposition/subordinating conjunction</td>\n",
       "    </tr>\n",
       "    <tr>\n",
       "      <th>6</th>\n",
       "      <td>JJ</td>\n",
       "      <td>This NLTK POS Tag is an adjective (large)</td>\n",
       "    </tr>\n",
       "    <tr>\n",
       "      <th>7</th>\n",
       "      <td>JJR</td>\n",
       "      <td>adjective, comparative (larger)</td>\n",
       "    </tr>\n",
       "    <tr>\n",
       "      <th>8</th>\n",
       "      <td>JJS</td>\n",
       "      <td>adjective, superlative (largest)</td>\n",
       "    </tr>\n",
       "    <tr>\n",
       "      <th>9</th>\n",
       "      <td>LS</td>\n",
       "      <td>list market</td>\n",
       "    </tr>\n",
       "    <tr>\n",
       "      <th>10</th>\n",
       "      <td>MD</td>\n",
       "      <td>modal (could, will)</td>\n",
       "    </tr>\n",
       "    <tr>\n",
       "      <th>11</th>\n",
       "      <td>NN</td>\n",
       "      <td>noun, singular (cat, tree)</td>\n",
       "    </tr>\n",
       "    <tr>\n",
       "      <th>12</th>\n",
       "      <td>NNS</td>\n",
       "      <td>noun plural (desks)</td>\n",
       "    </tr>\n",
       "    <tr>\n",
       "      <th>13</th>\n",
       "      <td>NNP</td>\n",
       "      <td>proper noun, singular (sarah)</td>\n",
       "    </tr>\n",
       "    <tr>\n",
       "      <th>14</th>\n",
       "      <td>NNPS</td>\n",
       "      <td>proper noun, plural (indians or americans)</td>\n",
       "    </tr>\n",
       "    <tr>\n",
       "      <th>15</th>\n",
       "      <td>PDT</td>\n",
       "      <td>predeterminer (all, both, half)</td>\n",
       "    </tr>\n",
       "    <tr>\n",
       "      <th>16</th>\n",
       "      <td>POS</td>\n",
       "      <td>possessive ending (parent\\ ‘s)</td>\n",
       "    </tr>\n",
       "    <tr>\n",
       "      <th>17</th>\n",
       "      <td>PRP</td>\n",
       "      <td>personal pronoun (hers, herself, him, himself)</td>\n",
       "    </tr>\n",
       "    <tr>\n",
       "      <th>18</th>\n",
       "      <td>PRP$</td>\n",
       "      <td>possessive pronoun (her, his, mine, my, our)</td>\n",
       "    </tr>\n",
       "    <tr>\n",
       "      <th>19</th>\n",
       "      <td>RB</td>\n",
       "      <td>adverb (occasionally, swiftly)</td>\n",
       "    </tr>\n",
       "    <tr>\n",
       "      <th>20</th>\n",
       "      <td>RBR</td>\n",
       "      <td>adverb, comparative (greater)</td>\n",
       "    </tr>\n",
       "    <tr>\n",
       "      <th>21</th>\n",
       "      <td>RBS</td>\n",
       "      <td>adverb, superlative (biggest)</td>\n",
       "    </tr>\n",
       "    <tr>\n",
       "      <th>22</th>\n",
       "      <td>RP</td>\n",
       "      <td>particle (about)</td>\n",
       "    </tr>\n",
       "    <tr>\n",
       "      <th>23</th>\n",
       "      <td>TO</td>\n",
       "      <td>infinite marker (to)</td>\n",
       "    </tr>\n",
       "    <tr>\n",
       "      <th>24</th>\n",
       "      <td>UH</td>\n",
       "      <td>interjection (goodbye)</td>\n",
       "    </tr>\n",
       "    <tr>\n",
       "      <th>25</th>\n",
       "      <td>VB</td>\n",
       "      <td>verb (ask)</td>\n",
       "    </tr>\n",
       "    <tr>\n",
       "      <th>26</th>\n",
       "      <td>VBG</td>\n",
       "      <td>verb gerund (judging)</td>\n",
       "    </tr>\n",
       "    <tr>\n",
       "      <th>27</th>\n",
       "      <td>VBD</td>\n",
       "      <td>verb past tense (pleaded)</td>\n",
       "    </tr>\n",
       "    <tr>\n",
       "      <th>28</th>\n",
       "      <td>VBN</td>\n",
       "      <td>verb past participle (reunified)</td>\n",
       "    </tr>\n",
       "    <tr>\n",
       "      <th>29</th>\n",
       "      <td>VBP</td>\n",
       "      <td>verb, present tense not 3rd person singular(wrap)</td>\n",
       "    </tr>\n",
       "    <tr>\n",
       "      <th>30</th>\n",
       "      <td>VBZ</td>\n",
       "      <td>verb, present tense with 3rd person singular (...</td>\n",
       "    </tr>\n",
       "    <tr>\n",
       "      <th>31</th>\n",
       "      <td>WDT</td>\n",
       "      <td>wh-determiner (that, what)</td>\n",
       "    </tr>\n",
       "    <tr>\n",
       "      <th>32</th>\n",
       "      <td>WP</td>\n",
       "      <td>wh- pronoun (who)</td>\n",
       "    </tr>\n",
       "    <tr>\n",
       "      <th>33</th>\n",
       "      <td>WRB</td>\n",
       "      <td>wh- adverb (how)</td>\n",
       "    </tr>\n",
       "  </tbody>\n",
       "</table>\n",
       "</div>"
      ],
      "text/plain": [
       "   Abbreviation                                            Meaning\n",
       "0            CC                           coordinating conjunction\n",
       "1            CD                                     cardinal digit\n",
       "2            DT                                         determiner\n",
       "3            EX                                  existential there\n",
       "4            FW                                       foreign word\n",
       "5            IN              preposition/subordinating conjunction\n",
       "6            JJ          This NLTK POS Tag is an adjective (large)\n",
       "7           JJR                    adjective, comparative (larger)\n",
       "8           JJS                   adjective, superlative (largest)\n",
       "9            LS                                        list market\n",
       "10           MD                                modal (could, will)\n",
       "11           NN                         noun, singular (cat, tree)\n",
       "12          NNS                                noun plural (desks)\n",
       "13          NNP                      proper noun, singular (sarah)\n",
       "14         NNPS         proper noun, plural (indians or americans)\n",
       "15          PDT                    predeterminer (all, both, half)\n",
       "16          POS                     possessive ending (parent\\ ‘s)\n",
       "17          PRP     personal pronoun (hers, herself, him, himself)\n",
       "18         PRP$       possessive pronoun (her, his, mine, my, our)\n",
       "19           RB                     adverb (occasionally, swiftly)\n",
       "20          RBR                      adverb, comparative (greater)\n",
       "21          RBS                      adverb, superlative (biggest)\n",
       "22           RP                                   particle (about)\n",
       "23           TO                               infinite marker (to)\n",
       "24           UH                             interjection (goodbye)\n",
       "25           VB                                         verb (ask)\n",
       "26          VBG                              verb gerund (judging)\n",
       "27          VBD                          verb past tense (pleaded)\n",
       "28          VBN                   verb past participle (reunified)\n",
       "29          VBP  verb, present tense not 3rd person singular(wrap)\n",
       "30          VBZ  verb, present tense with 3rd person singular (...\n",
       "31          WDT                         wh-determiner (that, what)\n",
       "32           WP                                  wh- pronoun (who)\n",
       "33          WRB                                   wh- adverb (how)"
      ]
     },
     "execution_count": 69,
     "metadata": {},
     "output_type": "execute_result"
    }
   ],
   "source": [
    "### Parts of speech meaning and abbreviation\n",
    "data = {'Abbreviation': ['CC', 'CD', 'DT', 'EX', 'FW', \"IN\",\"JJ\",\"JJR\",\"JJS\",\"LS\",\"MD\",\"NN\",\"NNS\",\"NNP\",\"NNPS\",\"PDT\",\"POS\",\n",
    "                        \"PRP\",\"PRP$\",\"RB\",\"RBR\",\"RBS\",\"RP\",\"TO\",\"UH\",\"VB\",\"VBG\",\"VBD\",\"VBN\",\"VBP\",\"VBZ\",\"WDT\",\"WP\",\"WRB\"\n",
    "                        ],\n",
    "        'Meaning': [\"coordinating conjunction\", \"cardinal digit\", \"determiner\",\n",
    "                    \"existential there\",\"foreign word\", \"preposition/subordinating conjunction\",\n",
    "                    \"This NLTK POS Tag is an adjective (large)\", \"adjective, comparative (larger)\",\n",
    "                    \"adjective, superlative (largest)\",\"list market\",\"modal (could, will)\",\"noun, singular (cat, tree)\",\n",
    "                   \"noun plural (desks)\",\"proper noun, singular (sarah)\", \"proper noun, plural (indians or americans)\",\n",
    "                    \"predeterminer (all, both, half)\",\"possessive ending (parent\\ ‘s)\",\n",
    "                    \"personal pronoun (hers, herself, him, himself)\",\"possessive pronoun (her, his, mine, my, our)\",\n",
    "                    \"adverb (occasionally, swiftly)\",\"adverb, comparative (greater)\",\"adverb, superlative (biggest)\",\n",
    "                    \"particle (about)\",\"infinite marker (to)\",\"interjection (goodbye)\",\"verb (ask)\",\"verb gerund (judging)\",\n",
    "                    \"verb past tense (pleaded)\",\"verb past participle (reunified)\",\"verb, present tense not 3rd person singular(wrap)\",\n",
    "                    \"verb, present tense with 3rd person singular (bases)\",\"wh-determiner (that, what)\",\"wh- pronoun (who)\",\n",
    "                    \"wh- adverb (how)\"]}\n",
    "df = pd.DataFrame(data)\n",
    "df\n"
   ]
  },
  {
   "cell_type": "code",
   "execution_count": 59,
   "id": "47aff016",
   "metadata": {},
   "outputs": [
    {
     "name": "stdout",
     "output_type": "stream",
     "text": [
      "Если вы еще не видели «Игры престолов», идите смотреть прямо сейчас. Если у вас есть, то вы полностью поймете, почему этот голодный ösum-генератор Hodor просто блестящий.\n",
      "Классический латинский отрывок, который просто никогда не стареет, наслаждается как можно большим (или как маленьким) lorem ipsum, поскольку вы можете справиться с нашим простым в использовании генератором текста наполнителя.\n",
      "Если вы не читаете Twitter, новости или просто не можете получить достаточное количество легендарной аранжировки хоста The Apprentice, попробуйте этот генератор umpum umpum от Trump для размера.\n",
      "Ручная, мелкосерийная, артистичная версия для заливки классического генератора lorem ipsum, Hipster Ipsum придаст вашим макерам этот синий воротник.\n"
     ]
    }
   ],
   "source": [
    "source = open(\"dummyText.txt\", \"r\", encoding='utf-8').read()\n",
    "print(source)"
   ]
  },
  {
   "cell_type": "code",
   "execution_count": 61,
   "id": "42755d19",
   "metadata": {},
   "outputs": [
    {
     "name": "stdout",
     "output_type": "stream",
     "text": [
      "['Если вы еще не видели «Игры престолов», идите смотреть прямо сейчас.', 'Если у вас есть, то вы полностью поймете, почему этот голодный ösum-генератор Hodor просто блестящий.', 'Классический латинский отрывок, который просто никогда не стареет, наслаждается как можно большим (или как маленьким) lorem ipsum, поскольку вы можете справиться с нашим простым в использовании генератором текста наполнителя.', 'Если вы не читаете Twitter, новости или просто не можете получить достаточное количество легендарной аранжировки хоста The Apprentice, попробуйте этот генератор umpum umpum от Trump для размера.', 'Ручная, мелкосерийная, артистичная версия для заливки классического генератора lorem ipsum, Hipster Ipsum придаст вашим макерам этот синий воротник.']\n"
     ]
    }
   ],
   "source": [
    "# text = source.readline()\n",
    "convert = nltk.sent_tokenize(source, language=\"russian\")\n",
    "print(convert)\n",
    "# print(source.readline())"
   ]
  },
  {
   "cell_type": "code",
   "execution_count": 63,
   "id": "04cc6e85",
   "metadata": {},
   "outputs": [
    {
     "name": "stdout",
     "output_type": "stream",
     "text": [
      "['если', 'вы', 'еще', 'не', 'видели', '«', 'игры', 'престолов', '»', ',', 'идите', 'смотреть', 'прямо', 'сейчас', '.', 'если', 'у', 'вас', 'есть', ',', 'то', 'вы', 'полностью', 'поймете', ',', 'почему', 'этот', 'голодный', 'ösum-генератор', 'hodor', 'просто', 'блестящий', '.', 'классический', 'латинский', 'отрывок', ',', 'который', 'просто', 'никогда', 'не', 'стареет', ',', 'наслаждается', 'как', 'можно', 'большим', '(', 'или', 'как', 'маленьким', ')', 'lorem', 'ipsum', ',', 'поскольку', 'вы', 'можете', 'справиться', 'с', 'нашим', 'простым', 'в', 'использовании', 'генератором', 'текста', 'наполнителя', '.', 'если', 'вы', 'не', 'читаете', 'twitter', ',', 'новости', 'или', 'просто', 'не', 'можете', 'получить', 'достаточное', 'количество', 'легендарной', 'аранжировки', 'хоста', 'the', 'apprentice', ',', 'попробуйте', 'этот', 'генератор', 'umpum', 'umpum', 'от', 'trump', 'для', 'размера', '.', 'ручная', ',', 'мелкосерийная', ',', 'артистичная', 'версия', 'для', 'заливки', 'классического', 'генератора', 'lorem', 'ipsum', ',', 'hipster', 'ipsum', 'придаст', 'вашим', 'макерам', 'этот', 'синий', 'воротник', '.']\n"
     ]
    }
   ],
   "source": [
    "wordTokenizer = nltk.word_tokenize(source.lower())\n",
    "print(wordTokenizer)"
   ]
  },
  {
   "cell_type": "code",
   "execution_count": 64,
   "id": "a67645fd",
   "metadata": {},
   "outputs": [
    {
     "name": "stdout",
     "output_type": "stream",
     "text": [
      "['и', 'в', 'во', 'не', 'что', 'он', 'на', 'я', 'с', 'со', 'как', 'а', 'то', 'все', 'она', 'так', 'его', 'но', 'да', 'ты', 'к', 'у', 'же', 'вы', 'за', 'бы', 'по', 'только', 'ее', 'мне', 'было', 'вот', 'от', 'меня', 'еще', 'нет', 'о', 'из', 'ему', 'теперь', 'когда', 'даже', 'ну', 'вдруг', 'ли', 'если', 'уже', 'или', 'ни', 'быть', 'был', 'него', 'до', 'вас', 'нибудь', 'опять', 'уж', 'вам', 'ведь', 'там', 'потом', 'себя', 'ничего', 'ей', 'может', 'они', 'тут', 'где', 'есть', 'надо', 'ней', 'для', 'мы', 'тебя', 'их', 'чем', 'была', 'сам', 'чтоб', 'без', 'будто', 'чего', 'раз', 'тоже', 'себе', 'под', 'будет', 'ж', 'тогда', 'кто', 'этот', 'того', 'потому', 'этого', 'какой', 'совсем', 'ним', 'здесь', 'этом', 'один', 'почти', 'мой', 'тем', 'чтобы', 'нее', 'сейчас', 'были', 'куда', 'зачем', 'всех', 'никогда', 'можно', 'при', 'наконец', 'два', 'об', 'другой', 'хоть', 'после', 'над', 'больше', 'тот', 'через', 'эти', 'нас', 'про', 'всего', 'них', 'какая', 'много', 'разве', 'три', 'эту', 'моя', 'впрочем', 'хорошо', 'свою', 'этой', 'перед', 'иногда', 'лучше', 'чуть', 'том', 'нельзя', 'такой', 'им', 'более', 'всегда', 'конечно', 'всю', 'между']\n"
     ]
    }
   ],
   "source": [
    "russianStopwords = stopwords.words('russian')\n",
    "print(russianStopwords)"
   ]
  },
  {
   "cell_type": "code",
   "execution_count": 65,
   "id": "7bcd8828",
   "metadata": {},
   "outputs": [
    {
     "name": "stdout",
     "output_type": "stream",
     "text": [
      "['видели', '«', 'игры', 'престолов', '»', ',', 'идите', 'смотреть', 'прямо', '.', ',', 'полностью', 'поймете', ',', 'почему', 'голодный', 'ösum-генератор', 'hodor', 'просто', 'блестящий', '.', 'классический', 'латинский', 'отрывок', ',', 'который', 'просто', 'стареет', ',', 'наслаждается', 'большим', '(', 'маленьким', ')', 'lorem', 'ipsum', ',', 'поскольку', 'можете', 'справиться', 'нашим', 'простым', 'использовании', 'генератором', 'текста', 'наполнителя', '.', 'читаете', 'twitter', ',', 'новости', 'просто', 'можете', 'получить', 'достаточное', 'количество', 'легендарной', 'аранжировки', 'хоста', 'the', 'apprentice', ',', 'попробуйте', 'генератор', 'umpum', 'umpum', 'trump', 'размера', '.', 'ручная', ',', 'мелкосерийная', ',', 'артистичная', 'версия', 'заливки', 'классического', 'генератора', 'lorem', 'ipsum', ',', 'hipster', 'ipsum', 'придаст', 'вашим', 'макерам', 'синий', 'воротник', '.']\n"
     ]
    }
   ],
   "source": [
    "### Removing stopwords from our text\n",
    "wordTokenizer = [words for words in wordTokenizer if words not in russianStopwords]\n",
    "print(wordTokenizer)"
   ]
  },
  {
   "cell_type": "code",
   "execution_count": 66,
   "id": "ac3be6dd",
   "metadata": {},
   "outputs": [
    {
     "name": "stdout",
     "output_type": "stream",
     "text": [
      "[('видели', 'JJ'), ('«', 'NNP'), ('игры', 'NNP'), ('престолов', 'NNP'), ('»', 'NNP'), (',', ','), ('идите', 'NNP'), ('смотреть', 'NNP'), ('прямо', 'NNP'), ('.', '.'), (',', ','), ('полностью', 'JJ'), ('поймете', 'NN'), (',', ','), ('почему', 'JJ'), ('голодный', 'NNP'), ('ösum-генератор', 'JJ'), ('hodor', 'NN'), ('просто', 'NNP'), ('блестящий', 'NNP'), ('.', '.'), ('классический', 'VB'), ('латинский', 'JJ'), ('отрывок', 'NNP'), (',', ','), ('который', 'NNP'), ('просто', 'NNP'), ('стареет', 'NNP'), (',', ','), ('наслаждается', 'NNP'), ('большим', 'NNP'), ('(', '('), ('маленьким', 'NNP'), (')', ')'), ('lorem', 'NN'), ('ipsum', 'NN'), (',', ','), ('поскольку', 'NNP'), ('можете', 'NNP'), ('справиться', 'NNP'), ('нашим', 'NNP'), ('простым', 'NNP'), ('использовании', 'NNP'), ('генератором', 'NNP'), ('текста', 'NNP'), ('наполнителя', 'NNP'), ('.', '.'), ('читаете', 'NN'), ('twitter', 'NN'), (',', ','), ('новости', 'NNP'), ('просто', 'NNP'), ('можете', 'NNP'), ('получить', 'NNP'), ('достаточное', 'NNP'), ('количество', 'NNP'), ('легендарной', 'NNP'), ('аранжировки', 'NNP'), ('хоста', 'VBD'), ('the', 'DT'), ('apprentice', 'NN'), (',', ','), ('попробуйте', 'NNP'), ('генератор', 'NNP'), ('umpum', 'JJ'), ('umpum', 'JJ'), ('trump', 'NN'), ('размера', 'NN'), ('.', '.'), ('ручная', 'NN'), (',', ','), ('мелкосерийная', 'NNP'), (',', ','), ('артистичная', 'NNP'), ('версия', 'NNP'), ('заливки', 'NNP'), ('классического', 'NNP'), ('генератора', 'NNP'), ('lorem', 'NN'), ('ipsum', 'NN'), (',', ','), ('hipster', 'NN'), ('ipsum', 'NN'), ('придаст', 'NNP'), ('вашим', 'NNP'), ('макерам', 'NNP'), ('синий', 'NNP'), ('воротник', 'NNP'), ('.', '.')]\n"
     ]
    }
   ],
   "source": [
    "partsOfSpeech = nltk.pos_tag(wordTokenizer)\n",
    "print(partsOfSpeech)"
   ]
  }
 ],
 "metadata": {
  "kernelspec": {
   "display_name": "Python 3 (ipykernel)",
   "language": "python",
   "name": "python3"
  },
  "language_info": {
   "codemirror_mode": {
    "name": "ipython",
    "version": 3
   },
   "file_extension": ".py",
   "mimetype": "text/x-python",
   "name": "python",
   "nbconvert_exporter": "python",
   "pygments_lexer": "ipython3",
   "version": "3.9.12"
  }
 },
 "nbformat": 4,
 "nbformat_minor": 5
}
